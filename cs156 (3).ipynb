{
 "cells": [
  {
   "cell_type": "markdown",
   "id": "148d3ae5",
   "metadata": {},
   "source": [
    "# First Pipeline"
   ]
  },
  {
   "cell_type": "markdown",
   "id": "ff0cfbde",
   "metadata": {},
   "source": [
    "## Introduction\n"
   ]
  },
  {
   "cell_type": "markdown",
   "id": "9c371d6a",
   "metadata": {},
   "source": [
    "In this assignment, I am going to explore how much money I spend on food. \n",
    "Each month, bank of america sends my bank statement, but I never really look at it. At the same time, each month, I am always wondering what I spent my money on. From what I remember, I usually spend most of my money on food, but it is hard to actually keep track of it. So in this assignment, I wil use those bank statements to make a model that classifies each transaction as spent on food or non-food items from the description of the transaction.\n"
   ]
  },
  {
   "cell_type": "markdown",
   "id": "f61758ef",
   "metadata": {},
   "source": [
    "## 1, 2. Data exploration\n"
   ]
  },
  {
   "cell_type": "markdown",
   "id": "e8718601",
   "metadata": {},
   "source": [
    "I spent this summer in the US, where cost of food was especially expensive. For consistency, I chose to use data from these months I spend in the US because other countries transactions are hard to understand and includes many non-english words, that even I cannot comprehend. I downloaded data from 05/15/2023 - 09/11/2023 transactions that was deducted from my account as a csv file, which has 159 entries. The dataset has 4 columns about transactions: date, description, amount. I also added 4th column that indicates whether the money spend on food or not with 1(food) or 0(non-food) (I did this manually, it was easy for me to classify since the description gave off where I spent it. For example: Mcdonalds, Target, etc.). All the descriptions are written in english by the bank of america. \n",
    "\n",
    "For some transactions that are titled as Target or CVS, realistically, I could buy any item from these stores. But I noted them as 1 (food) because usually I go into these stores with an intent to buy food, even though there could be one or two non-food items in there. "
   ]
  },
  {
   "cell_type": "code",
   "execution_count": 1,
   "id": "dd1ee84e",
   "metadata": {},
   "outputs": [
    {
     "data": {
      "text/html": [
       "<div>\n",
       "<style scoped>\n",
       "    .dataframe tbody tr th:only-of-type {\n",
       "        vertical-align: middle;\n",
       "    }\n",
       "\n",
       "    .dataframe tbody tr th {\n",
       "        vertical-align: top;\n",
       "    }\n",
       "\n",
       "    .dataframe thead th {\n",
       "        text-align: right;\n",
       "    }\n",
       "</style>\n",
       "<table border=\"1\" class=\"dataframe\">\n",
       "  <thead>\n",
       "    <tr style=\"text-align: right;\">\n",
       "      <th></th>\n",
       "      <th>Date</th>\n",
       "      <th>Description</th>\n",
       "      <th>Amount</th>\n",
       "      <th>Food or not?</th>\n",
       "    </tr>\n",
       "  </thead>\n",
       "  <tbody>\n",
       "    <tr>\n",
       "      <th>0</th>\n",
       "      <td>05/15/2023</td>\n",
       "      <td>Zelle Transfer Conf# o0sucyi1m; TSENGUUN GANTU...</td>\n",
       "      <td>-66.00</td>\n",
       "      <td>0</td>\n",
       "    </tr>\n",
       "    <tr>\n",
       "      <th>1</th>\n",
       "      <td>05/16/2023</td>\n",
       "      <td>WHOLEFDS STV # 05/15 MOBILE PURCHASE CHICAGO IL</td>\n",
       "      <td>-4.85</td>\n",
       "      <td>1</td>\n",
       "    </tr>\n",
       "    <tr>\n",
       "      <th>2</th>\n",
       "      <td>05/17/2023</td>\n",
       "      <td>UAS DES:EPAYMENT ID: 1O3S86T7BI INDN:TERGEL SU...</td>\n",
       "      <td>-55.96</td>\n",
       "      <td>0</td>\n",
       "    </tr>\n",
       "    <tr>\n",
       "      <th>3</th>\n",
       "      <td>05/18/2023</td>\n",
       "      <td>TARGET 00032078 05/15 MOBILE PURCHASE CHICAGO IL</td>\n",
       "      <td>-4.07</td>\n",
       "      <td>1</td>\n",
       "    </tr>\n",
       "    <tr>\n",
       "      <th>4</th>\n",
       "      <td>05/19/2023</td>\n",
       "      <td>TARGET 00032078 05/17 MOBILE PURCHASE CHICAGO IL</td>\n",
       "      <td>-24.28</td>\n",
       "      <td>1</td>\n",
       "    </tr>\n",
       "  </tbody>\n",
       "</table>\n",
       "</div>"
      ],
      "text/plain": [
       "         Date                                        Description  Amount  \\\n",
       "0  05/15/2023  Zelle Transfer Conf# o0sucyi1m; TSENGUUN GANTU...  -66.00   \n",
       "1  05/16/2023    WHOLEFDS STV # 05/15 MOBILE PURCHASE CHICAGO IL   -4.85   \n",
       "2  05/17/2023  UAS DES:EPAYMENT ID: 1O3S86T7BI INDN:TERGEL SU...  -55.96   \n",
       "3  05/18/2023   TARGET 00032078 05/15 MOBILE PURCHASE CHICAGO IL   -4.07   \n",
       "4  05/19/2023   TARGET 00032078 05/17 MOBILE PURCHASE CHICAGO IL  -24.28   \n",
       "\n",
       "   Food or not?  \n",
       "0             0  \n",
       "1             1  \n",
       "2             0  \n",
       "3             1  \n",
       "4             1  "
      ]
     },
     "execution_count": 1,
     "metadata": {},
     "output_type": "execute_result"
    }
   ],
   "source": [
    "#importing useful libraries\n",
    "import pandas as pd\n",
    "from sklearn.model_selection import train_test_split\n",
    "from sklearn.feature_extraction.text import TfidfVectorizer\n",
    "from sklearn.naive_bayes import MultinomialNB\n",
    "from sklearn.metrics import accuracy_score, classification_report, confusion_matrix, precision_score, recall_score, f1_score, roc_auc_score, roc_curve\n",
    "import re\n",
    "from sklearn.model_selection import StratifiedKFold\n",
    "import numpy as np\n",
    "import matplotlib.pyplot as plt\n",
    "import seaborn as sns\n",
    "from sklearn.model_selection import LeaveOneOut\n",
    "from sklearn.feature_extraction.text import CountVectorizer\n",
    "from sklearn.naive_bayes import MultinomialNB\n",
    "from sklearn.linear_model import LogisticRegression\n",
    "from sklearn.svm import SVC\n",
    "from sklearn.pipeline import Pipeline\n",
    "\n",
    "# Load dataset\n",
    "data = pd.read_csv('/Users/tergel.s/Downloads/bank.csv')\n",
    "data.head()"
   ]
  },
  {
   "cell_type": "markdown",
   "id": "d66c020c",
   "metadata": {},
   "source": [
    "## 3. Cleaning\n"
   ]
  },
  {
   "cell_type": "markdown",
   "id": "2017edc5",
   "metadata": {},
   "source": [
    "The third section of the notebook**** should include a markdown section explaining any necessary cleaning, pre-processing, and feature engineering the data requires, and a include a code block completing these steps. You may also wish to perform some basic exploratory data analysis at this point reporting and visualizing some samples and appropriate descriptive statistics.\n",
    "\n",
    "The amount of money I spend is very random. For example, on one day, I will spend a twenty dollar on food and take a bus, or I take a lyft and refuse to waste money on food. Even for bigger transactions, it is random since I could spend hundreds of dollars on food during a trip, or just spend the same amount of money on taxes, rent, etc.\n",
    "In the vizualiation below, we can see that the spend for food and non-food items almost the same. Therefore, I will exclude the amount column from training, and only focus on the text classification of the transactions descriptions. "
   ]
  },
  {
   "cell_type": "code",
   "execution_count": 2,
   "id": "d9d73aa7",
   "metadata": {},
   "outputs": [
    {
     "data": {
      "image/png": "[encoded data removed]",
      "text/plain": [
       "<Figure size 1000x600 with 1 Axes>"
      ]
     },
     "metadata": {},
     "output_type": "display_data"
    }
   ],
   "source": [
    "# Separate the data into two subsets based on the \"Food or not?\" column\n",
    "food_data = data[data['Food or not?'] == 1]\n",
    "non_food_data = data[data['Food or not?'] == 0]\n",
    "\n",
    "# Set up the plot\n",
    "# Make the values positive to describe how much is spent\n",
    "plt.figure(figsize=(10, 6))\n",
    "plt.hist(-food_data['Amount'], bins=20, alpha=0.5, label='Food', color='blue')\n",
    "plt.hist(-non_food_data['Amount'], bins=20, alpha=0.5, label='Non-Food', color='red')\n",
    "\n",
    "# Add labels and legend\n",
    "plt.xlabel('Amount')\n",
    "plt.ylabel('Frequency')\n",
    "plt.title('Histogram of Amount by Classification')\n",
    "plt.legend()\n",
    "\n",
    "# Show the plot\n",
    "plt.show()\n"
   ]
  },
  {
   "cell_type": "markdown",
   "id": "a3aa0aa0",
   "metadata": {},
   "source": [
    "Since I do some type of transaction every day and the date column does not indicate anything about it being food or not, so the date column in the dataset is not relevant in the classification. It also means that we need to remove dates from the transaction description since some looks like: \"LYFT RIDE MON 7PM 06/26 PURCHASE 855-865-9553 CA\"\n",
    " \n",
    "In the \"description\" column, we also want to make sure that we do not confuse the model with capital or small letters, so we will convert all the words in the descriptioin to small letters to make it case-insensitive.\n",
    "\n",
    "Plus, we can notice that many of the descriptions have words indicating which state I was in when I bought the item. This does not indicate anything about if I bought food or not. So we will also delete these words from the descriptions. "
   ]
  },
  {
   "cell_type": "code",
   "execution_count": 3,
   "id": "5d8b8307",
   "metadata": {},
   "outputs": [
    {
     "data": {
      "text/plain": [
       "0    zelle transfer conf# o0sucyi1m; tsenguun gantu...\n",
       "1                    wholefds stv #  mobile purchase  \n",
       "2    uas des:epayment id: 1o3s86t7bi indn:tergel su...\n",
       "3                   target 00032078  mobile purchase  \n",
       "4                   target 00032078  mobile purchase  \n",
       "Name: Description, dtype: object"
      ]
     },
     "execution_count": 3,
     "metadata": {},
     "output_type": "execute_result"
    }
   ],
   "source": [
    "# Define the date pattern (MM/DD or MM/DD/YY format)\n",
    "date_pattern = r'\\d{1,2}/\\d{1,2}(/20\\d{2})?'\n",
    "\n",
    "# Function to remove dates from \"description\"\n",
    "def remove_dates(description):\n",
    "    return re.sub(date_pattern, '', description)\n",
    "\n",
    "# Apply the function to the \"description\" column\n",
    "data['Description'] = data['Description'].apply(remove_dates)\n",
    "\n",
    "#making case-insensitive by making everyhting small\n",
    "data['Description'] = data['Description'].str.lower()\n",
    "\n",
    "# Define the list of keywords to be removed\n",
    "keywords_to_remove = [\"austin\", \"texas\", \"dallas\", \"il\", \"chicago\", \"tx\"]\n",
    "\n",
    "# Loop through the keywords and remove them from the \"description\" column\n",
    "for keyword in keywords_to_remove:\n",
    "    data['Description'] = data['Description'].str.replace(r'\\b' + keyword + r'\\b', '', regex=True, case=False)\n",
    "\n",
    "\n",
    "# Split the data into X and y\n",
    "X = data['Description']  # Description as input feature\n",
    "y = data['Food or not?']  # Food or not food as the target variable\n",
    "\n",
    "X.head()\n"
   ]
  },
  {
   "cell_type": "markdown",
   "id": "3dd723de",
   "metadata": {},
   "source": [
    "## 4. Task\n",
    "In this assignment, I am gonna perform a binary classification of True or False (1 or 0) on each transaction to determine whether the spend was on food or non food items.  \n",
    "Now, we will split the dataset into 3 sets: test set, train set, and validation set. Using the train set, we will train the model to learn the patterns in the data, while test set it for us to see how well the model learned. The validation set is for model selection and tuning hyperparameters. In this case, we will assign 70% of the dataset to the test set, 15% to training set, and 15% to validation set. This is important because we need most of the data to train the model as accurately as possible, at the same time, we need to make sure the test and validation are reasonably-sized to give us useful information on the performance of the model and model selection. \n",
    "\n",
    "For model selection, we will use the validation set to evaluate model's performance, after training it on the training set. This helps to choose the best-performing model. \n",
    "Test set will be not used until we are done with training the model to how well the model will perform on unseen data."
   ]
  },
  {
   "cell_type": "code",
   "execution_count": 4,
   "id": "d5f3cb47",
   "metadata": {},
   "outputs": [],
   "source": [
    "# Split the dataset into training and testing sets\n",
    "X_train, X_temp, y_train, y_temp = train_test_split(X, y, test_size=0.3, random_state=42) #'random_state' ensures reproducibility.\n",
    "X_val, X_test, y_val, y_test = train_test_split(X_temp, y_temp, test_size=0.5, random_state=42)"
   ]
  },
  {
   "cell_type": "markdown",
   "id": "d6702230",
   "metadata": {},
   "source": [
    "## 5. Model selection\n",
    "\n",
    "Before we commit to a model, let's run a quick trial on which model does better in this problem out of some models that can work with binary classfication: Multinomial Naive Bayes, Logistic Regression, Support Vector Machine (see below). \n",
    "\n",
    "We can see that Logistic Regression and Support Vector Machine Models have the same accuracies, which are better than the Multinomial Naive bayes. \n",
    "\n",
    "For this problem, we will use Logistic regression. For a small dataset like this one, Logistic Regression is less prone to overfitting and easy to interpret the results. It is commonly used for solving classificaiton problems. It uses a logistic (sigmoid function, which can take values between 0 and 1) funciton to identify the relationship between the variables. As a result, it outputs probabilities on which class the item belongs. \n",
    "On the other hand, SVM creates a hyperplane to separate the classes and is able to learn patterns from complex datasets. It is a complex model capable model for both classification and regression, and can work with unstructured data. However, we choose linear regression since this dataset is simple, and once the algorithm figures out specific words indicating about food, it can easily classify the transactions. "
   ]
  },
  {
   "cell_type": "code",
   "execution_count": 5,
   "id": "9ab8e97a",
   "metadata": {},
   "outputs": [
    {
     "name": "stdout",
     "output_type": "stream",
     "text": [
      "Model: Multinomial Naive Bayes, Accuracy: 0.8333\n",
      "Model: Logistic Regression, Accuracy: 0.8750\n",
      "Model: Support Vector Machine, Accuracy: 0.8750\n"
     ]
    }
   ],
   "source": [
    "# Vectorize text data\n",
    "vectorizer = CountVectorizer(stop_words='english')\n",
    "X_train_vect = vectorizer.fit_transform(X_train)\n",
    "X_val_vect = vectorizer.transform(X_val)\n",
    "\n",
    "# Initialize models\n",
    "models = {\n",
    "    'Multinomial Naive Bayes': MultinomialNB(),\n",
    "    'Logistic Regression': LogisticRegression(),\n",
    "    'Support Vector Machine': SVC()\n",
    "}\n",
    "\n",
    "# Evaluate models\n",
    "for name, model in models.items():\n",
    "    model.fit(X_train_vect, y_train)\n",
    "    predictions = model.predict(X_val_vect)\n",
    "    accuracy = accuracy_score(y_val, predictions)\n",
    "    print(f'Model: {name}, Accuracy: {accuracy:.4f}')\n"
   ]
  },
  {
   "cell_type": "markdown",
   "id": "8b3bb7eb",
   "metadata": {},
   "source": [
    "At the heart of the logistic regression, there is a linear regression with equation with given a set of features X1, X2, …Xn:\n",
    "z = β0 + β1X1 + β2X2 + … + βnXn\n",
    "where β are weights for respective featurues, and β0 as bias. \n",
    "\n",
    "With linear regression equation, we could get any values, but we need a probability. That is why we use sigmoid fucntion that takes values between 0 and 1. The sigmoid function is expressed by P(z)= 1/(1+e^(-z)). \n",
    "\n",
    "To evaluate how the model performs we use Binary Cross Entropy, which takes also values between 0 and 1. When a model predicts well, it should be closer to 0. The equation for Binary Cross Entropy of one data point is:\n",
    "\n",
    "L(y, p) = − y × log(p) − (1 − y) × log(1 − p)\n",
    "Here: \n",
    "y is the actual label (0 or 1).\n",
    "p is the predicted probability of the single point belonging to class 1.\n",
    "\n",
    "In the pseudocode below, it does not specifically use Binary Cross Entropy, but it is related to the part where we compute the gradients of the log-likelihood with respect to parameters (β), which is derived from the derivative of the BCE loss:\n",
    "(gradient of L with respect to β) = ∂L/∂βj = (p−y)⋅xj (same as line 37)\n",
    "\n"
   ]
  },
  {
   "cell_type": "markdown",
   "id": "a09a6f25",
   "metadata": {},
   "source": [
    "### Pseudocode\n",
    "#### Algorithm: Logistic Regression Training using Gradient Descent\n",
    "\n",
    "    Input: \n",
    "    D: Training data { (X_1, y_1), (X_2, y_2), ..., (X_n, y_n) }\n",
    "    alpha: Learning rate\n",
    "    max_iter: Maximum number of iterations\n",
    "    epsilon: Convergence threshold\n",
    "\n",
    "    Initialize:\n",
    "    beta: Randomly initialize weights (β_0, β_1, ..., β_m) for m features\n",
    "\n",
    "    for iter from 1 to max_iter:\n",
    "        gradients = Compute the gradients of the log-likelihood w.r.t. beta on D using current beta\n",
    "        beta = beta + alpha * gradients\n",
    "\n",
    "        # Optionally: Check convergence\n",
    "        if Maximum change in beta < epsilon then\n",
    "            break\n",
    "\n",
    "Function: Compute the gradients of the log-likelihood\n",
    "\n",
    "    Input: \n",
    "    D: Training data\n",
    "    beta: Current weights\n",
    "    Output: \n",
    "    gradients: Computed gradients for each weight\n",
    "    \n",
    "    Initialize:\n",
    "    gradients = vector of zeros with the same length as beta\n",
    "    \n",
    "    for all (X, y) in D:\n",
    "        z = Σ(β_j * X_j) for all j # where j indicates the feature index\n",
    "        prediction = sigmoid(z)\n",
    "        #Update gradients\n",
    "        for j from 0 to m:\n",
    "            gradients[j] = gradients[j] + (y - prediction) * X[j]\n",
    "    return gradients\n",
    "\n",
    "\n",
    "Function: Sigmoid\n",
    "\n",
    "    Input: \n",
    "    z: input value\n",
    "    Output: \n",
    "    p: sigmoid of z\n",
    "    \n",
    "    p = 1 / (1 + exp(-z))\n",
    "    return p\n"
   ]
  },
  {
   "cell_type": "code",
   "execution_count": 6,
   "id": "39f868d5",
   "metadata": {},
   "outputs": [],
   "source": [
    "#model initialization\n",
    "'''\n",
    "Since the model involves text vectorization and classification, using a pipeline \n",
    "helps prevent data leakage and keeps the code clean.\n",
    "'vect' will handle text vectorization and 'clf' will handle classification.\n",
    "CountVectorizer converts text documents into a matrix of token counts.\n",
    "'''\n",
    "pipeline = Pipeline([\n",
    "    # Remove common words like 'and', 'the' that usually do not contain informative content\n",
    "    ('vect', CountVectorizer(stop_words='english')),  \n",
    "    ('clf', LogisticRegression())  \n",
    "])\n",
    "\n",
    "parameters = {\n",
    "    'vect__max_features': (1000, 5000),  # Maximum number of words to consider \n",
    "    'vect__ngram_range': ((1, 1), (1, 2)), # Consider either single words only or single words and bigrams\n",
    "    'clf__C': (0.1, 1, 10),  # Inverse of regularization strength\n",
    "    'clf__penalty': ('l1', 'l2'),  # Specify the norm used in the penalization\n",
    "}\n"
   ]
  },
  {
   "cell_type": "markdown",
   "id": "87c824c5",
   "metadata": {},
   "source": [
    "## 6. Training\n",
    "Now that we set up the model, let's train the model. \n",
    "\n",
    "For the hyperparameter tuning, we will use the GridSearchCV technique to find the best parameters that maximize the accuracy. \n",
    "\n",
    "GridSearchCV implements stratified cross-validation on the training data. Cross-validation is useful in cases where we do not have much data. With the help of cross-validation (in this case, with k=5), we divide the training data into 5 equal sections. We train 5 times; it will train the model on 4 parts and validate the model on the remaining 1 part. The final score is the average score of all iterations. We stratify the data to ensure that each fold has the same percentage of classes as the whole dataset. \n"
   ]
  },
  {
   "cell_type": "code",
   "execution_count": 7,
   "id": "5cf27d49",
   "metadata": {},
   "outputs": [
    {
     "name": "stdout",
     "output_type": "stream",
     "text": [
      "Fitting 5 folds for each of 24 candidates, totalling 120 fits\n",
      "Best Score: 0.847\n",
      "Best Parameters Set:\n",
      "\tclf__C: 1\n",
      "\tclf__penalty: 'l2'\n",
      "\tvect__max_features: 1000\n",
      "\tvect__ngram_range: (1, 1)\n"
     ]
    },
    {
     "name": "stderr",
     "output_type": "stream",
     "text": [
      "/Users/tergel.s/anaconda3/lib/python3.11/site-packages/sklearn/model_selection/_validation.py:425: FitFailedWarning: \n",
      "60 fits failed out of a total of 120.\n",
      "The score on these train-test partitions for these parameters will be set to nan.\n",
      "If these failures are not expected, you can try to debug them by setting error_score='raise'.\n",
      "\n",
      "Below are more details about the failures:\n",
      "--------------------------------------------------------------------------------\n",
      "60 fits failed with the following error:\n",
      "Traceback (most recent call last):\n",
      "  File \"/Users/tergel.s/anaconda3/lib/python3.11/site-packages/sklearn/model_selection/_validation.py\", line 732, in _fit_and_score\n",
      "    estimator.fit(X_train, y_train, **fit_params)\n",
      "  File \"/Users/tergel.s/anaconda3/lib/python3.11/site-packages/sklearn/base.py\", line 1151, in wrapper\n",
      "    return fit_method(estimator, *args, **kwargs)\n",
      "           ^^^^^^^^^^^^^^^^^^^^^^^^^^^^^^^^^^^^^^\n",
      "  File \"/Users/tergel.s/anaconda3/lib/python3.11/site-packages/sklearn/pipeline.py\", line 420, in fit\n",
      "    self._final_estimator.fit(Xt, y, **fit_params_last_step)\n",
      "  File \"/Users/tergel.s/anaconda3/lib/python3.11/site-packages/sklearn/base.py\", line 1151, in wrapper\n",
      "    return fit_method(estimator, *args, **kwargs)\n",
      "           ^^^^^^^^^^^^^^^^^^^^^^^^^^^^^^^^^^^^^^\n",
      "  File \"/Users/tergel.s/anaconda3/lib/python3.11/site-packages/sklearn/linear_model/_logistic.py\", line 1168, in fit\n",
      "    solver = _check_solver(self.solver, self.penalty, self.dual)\n",
      "             ^^^^^^^^^^^^^^^^^^^^^^^^^^^^^^^^^^^^^^^^^^^^^^^^^^^\n",
      "  File \"/Users/tergel.s/anaconda3/lib/python3.11/site-packages/sklearn/linear_model/_logistic.py\", line 56, in _check_solver\n",
      "    raise ValueError(\n",
      "ValueError: Solver lbfgs supports only 'l2' or 'none' penalties, got l1 penalty.\n",
      "\n",
      "  warnings.warn(some_fits_failed_message, FitFailedWarning)\n",
      "/Users/tergel.s/anaconda3/lib/python3.11/site-packages/sklearn/model_selection/_search.py:976: UserWarning: One or more of the test scores are non-finite: [       nan        nan        nan        nan 0.76600791 0.77509881\n",
      " 0.76600791 0.77509881        nan        nan        nan        nan\n",
      " 0.84664032 0.83754941 0.84664032 0.83754941        nan        nan\n",
      "        nan        nan 0.84664032 0.84664032 0.84664032 0.84664032]\n",
      "  warnings.warn(\n"
     ]
    }
   ],
   "source": [
    "from sklearn.model_selection import GridSearchCV\n",
    "\n",
    "# Create a GridSearchCV object with various hyperparameters\n",
    "grid_search = GridSearchCV(pipeline, parameters, n_jobs=-1, verbose=1, scoring='accuracy', cv=5)\n",
    "\"\"\"\n",
    "n_jobs=-1: This means that the computation will be dispatched on all the CPUs of the computer.\n",
    "verbose=1: To show the logs while training.\n",
    "scoring='accuracy': This is the scoring metric used to find our best model.\n",
    "\"\"\"\n",
    "\n",
    "# Train the model using grid search\n",
    "grid_search.fit(X_train, y_train)\n",
    "\n",
    "# Evaluate and display the best parameters and best score\n",
    "print(\"Best Score: %0.3f\" % grid_search.best_score_)\n",
    "print(\"Best Parameters Set:\")\n",
    "best_parameters = grid_search.best_estimator_.get_params()\n",
    "for param_name in sorted(parameters.keys()):\n",
    "    print(\"\\t%s: %r\" % (param_name, best_parameters[param_name]))\n"
   ]
  },
  {
   "cell_type": "markdown",
   "id": "3cce1374",
   "metadata": {},
   "source": [
    "From the result above, we see:\n",
    "- Best Score: 0.847\n",
    "\n",
    "    this means 0.847 was the highest accuracy score obtained in the cross validaiton grid search. In other words, model had a mean accuracy of 84.7% across the 5 folds of the data. The parameters that resulted in the accuracy are:\n",
    "    \n",
    "    clf__C: 1<br>\n",
    "    clf__penalty: 'l2'<br>\n",
    "    vect__max_features: 1000<br>\n",
    "    vect__ngram_range: (1, 1)<br>\n",
    "\n",
    "\n"
   ]
  },
  {
   "cell_type": "markdown",
   "id": "ebc282ae",
   "metadata": {},
   "source": [
    "## 7. Predictions\n"
   ]
  },
  {
   "cell_type": "code",
   "execution_count": 8,
   "id": "96780960",
   "metadata": {},
   "outputs": [
    {
     "name": "stdout",
     "output_type": "stream",
     "text": [
      "Accuracy: 0.875\n",
      "Precision: 0.812\n",
      "Recall: 1.000\n",
      "F1 Score: 0.897\n",
      "AUC: 0.951\n"
     ]
    },
    {
     "data": {
      "image/png": "[encoded data removed]",
      "text/plain": [
       "<Figure size 800x600 with 1 Axes>"
      ]
     },
     "metadata": {},
     "output_type": "display_data"
    }
   ],
   "source": [
    "# Generate Predictions\n",
    "y_pred = grid_search.predict(X_test)\n",
    "y_prob = grid_search.predict_proba(X_test)[:,1]  # Probability estimates of the positive class\n",
    "\n",
    "# Compute Performance Metrics\n",
    "acc = accuracy_score(y_test, y_pred)\n",
    "prec = precision_score(y_test, y_pred)\n",
    "rec = recall_score(y_test, y_pred)\n",
    "f1 = f1_score(y_test, y_pred)\n",
    "auc = roc_auc_score(y_test, y_prob)  # Note: use predicted probabilities for AUC\n",
    "\n",
    "# Print Metrics\n",
    "print(f'Accuracy: {acc:.3f}')\n",
    "print(f'Precision: {prec:.3f}')\n",
    "print(f'Recall: {rec:.3f}')\n",
    "print(f'F1 Score: {f1:.3f}')\n",
    "print(f'AUC: {auc:.3f}')\n",
    "\n",
    "# Plot ROC Curve\n",
    "fpr, tpr, _ = roc_curve(y_test, y_prob)\n",
    "plt.figure(figsize=(8, 6))\n",
    "plt.plot(fpr, tpr, label=f'AUC = {auc:.3f}')\n",
    "plt.plot([0, 1], [0, 1], 'k--')\n",
    "plt.xlabel('False Positive Rate')\n",
    "plt.ylabel('True Positive Rate')\n",
    "plt.title('ROC Curve')\n",
    "plt.legend(loc='lower right')\n",
    "plt.show()\n"
   ]
  },
  {
   "cell_type": "markdown",
   "id": "76a66a86",
   "metadata": {},
   "source": [
    "## 8. Visualization and Discussion"
   ]
  },
  {
   "cell_type": "markdown",
   "id": "082b9c85",
   "metadata": {},
   "source": [
    "There are multiple ways we can measure how accurate the model predicts:\n",
    "\n",
    "Accuracy is the ration of true positives and true negatives to all the sample. In other words, we measure what percentage of the set we classified correctly. Accuracy of  0.875 indicates that we classified most of the items correctly. \n",
    "\n",
    "Precision is ratio of correctly prediced positive classes to all items predicted positive, in this case equal to  0.812. This means there are a few False positives that the model classified. Sometimes, accuracy can be tricky metric. But, in this dataset, the number of food and non-food items are approximately the same, without one dominating over the other. Therefore, accuracy can give a useful information in this problem. \n",
    "\n",
    "Recall is ratio of correctly predicted positive classes to all items that are actually positive, which is equal to 1. This indicates that the model correctly classified all food items as food items. \n",
    "\n",
    "On the other hand, f1 score takes account for noth precision and recall. The formula look like:\n",
    "\n",
    "F1 = 2*precision*recall/(precision+recall). This metric ensures that the balance between the precision and recall is held. In this case, we have f1 = 0.897, which indicates that it has a good balance between the two. \n",
    "\n",
    "AUC(Area under the curve) is the area underneath the entire ROC curve. AUC = 0.5 would indicate the model is random so anything below the diagonal line is considered useless. This metrix measures tries to maximize the try positive, and minimize false positive. In our example, we see that AUC = 0.951, which indicate that it is pretty good at classifiying the classes. \n",
    "\n",
    "This is not a Cost-Sensitive problem compared to cancer detection, so these metrics indicate that the model does a good job (at least on this test set).\n",
    "\n",
    "For simpler vizualization, we can check the confusion matrix below. Here we can see that, indeed, the metrics above described the model's performance accurately. "
   ]
  },
  {
   "cell_type": "code",
   "execution_count": 9,
   "id": "9525a52c",
   "metadata": {},
   "outputs": [
    {
     "data": {
      "image/png": "[encoded data removed]",
      "text/plain": [
       "<Figure size 640x480 with 1 Axes>"
      ]
     },
     "metadata": {},
     "output_type": "display_data"
    }
   ],
   "source": [
    "#plot the confusion matrix\n",
    "cm = confusion_matrix(y_test, y_pred)\n",
    "sns.heatmap(cm, annot=True, fmt='g', cmap='Blues', cbar=False)\n",
    "plt.xlabel('Predicted')\n",
    "plt.ylabel('Actual')\n",
    "plt.title('Confusion Matrix')\n",
    "plt.show()"
   ]
  },
  {
   "cell_type": "markdown",
   "id": "8bfa677a",
   "metadata": {},
   "source": [
    "In the confusion matrix, we see that some non-food items are classified as food. Let's see what items are classified correctly and incorrectly."
   ]
  },
  {
   "cell_type": "code",
   "execution_count": 10,
   "id": "a42dbdd9",
   "metadata": {},
   "outputs": [
    {
     "name": "stdout",
     "output_type": "stream",
     "text": [
      "Some correctly classified transactions:\n",
      "                                 Description  Actual  Predicted\n",
      "56         h mart - chica  mobile purchase         1          1\n",
      "26      mcdonald's f39148  mobile purchase         1          1\n",
      "95      smashburger #1733  mobile purchase         1          1\n",
      "31        target 00032078  mobile purchase         1          1\n",
      "42  starbucks store 19549  mobile purchase         1          1\n",
      "\n",
      "Some incorrectly classified transactions:\n",
      "                                   Description  Actual  Predicted\n",
      "90      frontier ai mec35d  purchase denver co       0          1\n",
      "98           walgreens stor  mobile purchase         0          1\n",
      "101  amc 0133 river east 21  mobile purchase         0          1\n"
     ]
    }
   ],
   "source": [
    "\n",
    "# DataFrame to easily visualize and analyze results\n",
    "results_df = pd.DataFrame({\n",
    "    'Description': X_test,  \n",
    "    'Actual': y_test, \n",
    "    'Predicted': y_pred \n",
    "})\n",
    "\n",
    "#Correctly classified transactions\n",
    "correct = results_df[results_df['Actual'] == results_df['Predicted']]\n",
    "\n",
    "#Incorrectly classified transactions\n",
    "incorrect = results_df[results_df['Actual'] != results_df['Predicted']]\n",
    "\n",
    "#print\n",
    "print(\"Some correctly classified transactions:\")\n",
    "print(correct.head())\n",
    "print(\"\\nSome incorrectly classified transactions:\")\n",
    "print(incorrect.head())"
   ]
  },
  {
   "cell_type": "markdown",
   "id": "d3d07a8d",
   "metadata": {},
   "source": [
    "Above we see 3 items are classified incorrectly. I can explain that the reason they are classified incorrectly is because there is only 1 entries for each of these places. Therefore, it is predictable that the model will classify them incorrectly, since there is no other entry in the training set about Walgreens or AMC. "
   ]
  },
  {
   "cell_type": "markdown",
   "id": "01e21e90",
   "metadata": {},
   "source": [
    "## 9. Summary\n",
    "Overall, the model does a pretty good job. It could be because once the model starts to figure out which words are related to food and non food items, it is pretty straight-forward. There are some noise in the descriptions such as words like mobile purchase, and transaction number. \n",
    "To further improve the model, I need more data so the mistakes like we saw above with Walgreens and AMC would not occur. \n",
    "\n",
    "I am not completely sure what the transaction codes refer to but I had a hope that the model could find patterns I cannot comprehend. Google described that these numbers help banks classify the transaction types. Therefore, there is a possibility for the model to catch up on meanings of some numbers. "
   ]
  },
  {
   "cell_type": "code",
   "execution_count": 11,
   "id": "356424bd",
   "metadata": {
    "scrolled": false
   },
   "outputs": [
    {
     "name": "stdout",
     "output_type": "stream",
     "text": [
      "Top words correlated to food items:\n",
      "        Feature  Coefficient\n",
      "131      mobile     1.344632\n",
      "182      target     0.717733\n",
      "198         tst     0.650019\n",
      "0      00032078     0.639210\n",
      "157       ramen     0.531303\n",
      "128    mcdonald     0.470030\n",
      "167          sq     0.454214\n",
      "92        feder     0.442179\n",
      "61      capital     0.442179\n",
      "162  schaumburg     0.378415\n",
      "\n",
      "Top words correlated to non-food items:\n",
      "      Feature  Coefficient\n",
      "64   chinguun    -0.526345\n",
      "126      lyft    -0.560735\n",
      "66        com    -0.585412\n",
      "51       belo    -0.609822\n",
      "22         42    -0.609822\n",
      "46       amzn    -0.651562\n",
      "57         ca    -0.701451\n",
      "60        cap    -0.714055\n",
      "93    federal    -0.714055\n",
      "202    ventra    -2.562085\n"
     ]
    }
   ],
   "source": [
    "# Access the LogisticRegression model using the key 'clf'\n",
    "log_reg = grid_search.best_estimator_.named_steps['clf']\n",
    "\n",
    "# Retrieve coefficients\n",
    "coefficients = log_reg.coef_[0]\n",
    "features = vectorizer.get_feature_names_out()\n",
    "\n",
    "# Create a DataFrame for easier manipulation\n",
    "import pandas as pd\n",
    "df = pd.DataFrame({'Feature': features, 'Coefficient': coefficients})\n",
    "\n",
    "# Sort DataFrame by coefficient value to see words most correlated with each class\n",
    "sorted_df = df.sort_values(by='Coefficient', ascending=False)\n",
    "\n",
    "# Display top words correlated to food items (positive coefficients)\n",
    "print(\"Top words correlated to food items:\")\n",
    "print(sorted_df.head(10))\n",
    "\n",
    "# Display top words correlated to non-food items (negative coefficients)\n",
    "print(\"\\nTop words correlated to non-food items:\")\n",
    "print(sorted_df.tail(10))\n"
   ]
  },
  {
   "cell_type": "markdown",
   "id": "8ddba5b0",
   "metadata": {},
   "source": [
    "Above, I can see the top words correlated to both classes. We can see that many of the words are correctly identified as indicator of the relevant classes (e.g., Food: \"target\", \"ramen\"; Non-Food: \"federal\", \"amzn\"). \n",
    "We can also see some items that are not very indicative of each class. This indicates that the model has picked up some \"noise\" from the dataset. Interestingly, we can also see some numbers. But we will need more data to make sure what these numbers indicate to banks. \n"
   ]
  },
  {
   "cell_type": "markdown",
   "id": "b167ef9c",
   "metadata": {},
   "source": [
    "## 10. Reference\n",
    "The dataset can be found: \n",
    "\n",
    "https://shorturl.at/txESW\n",
    "This dataset contains only my information, and was used for my learning purpose. \n",
    "\n",
    "Works Cited Golovin, Aleksandr. “Neural Networks Decoded: How Logistic Regression Is the Hidden First Step.” Medium, Medium, 16 Sept. 2023, medium.com/@axegggl/neural-networks-decoded-how-logistic-regression-is-the-hidden-first-step-495f4a0b5fd. Accessed 15 Oct. 2023.Wilber, Jared. “ROC and AUC.” MLU-Explain, 2023, mlu-explain.github.io/roc-auc/. Accessed 15 Oct. 2023.\n",
    "\n",
    "I acknowledge the use of ChatGPT to assist with my questions and tasks.\n",
    "\n"
   ]
  }
 ],
 "metadata": {
  "kernelspec": {
   "display_name": "Python 3 (ipykernel)",
   "language": "python",
   "name": "python3"
  },
  "language_info": {
   "codemirror_mode": {
    "name": "ipython",
    "version": 3
   },
   "file_extension": ".py",
   "mimetype": "text/x-python",
   "name": "python",
   "nbconvert_exporter": "python",
   "pygments_lexer": "ipython3",
   "version": "3.11.5"
  }
 },
 "nbformat": 4,
 "nbformat_minor": 5
}
